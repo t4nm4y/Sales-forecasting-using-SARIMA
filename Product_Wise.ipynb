{
 "cells": [
  {
   "attachments": {},
   "cell_type": "markdown",
   "metadata": {},
   "source": [
    "If the data is combined, eg: of a retail store, so sales of all the products will be in a single csv file.\n",
    " So this code can be used to seperate the data product wise.\n"
   ]
  },
  {
   "cell_type": "code",
   "execution_count": 2,
   "metadata": {},
   "outputs": [],
   "source": [
    "import pandas as pd"
   ]
  },
  {
   "cell_type": "code",
   "execution_count": 3,
   "metadata": {},
   "outputs": [
    {
     "name": "stderr",
     "output_type": "stream",
     "text": [
      "/tmp/ipykernel_19919/2714048837.py:7: UserWarning: This pattern is interpreted as a regular expression, and has match groups. To actually get the groups, use str.extract.\n",
      "  t=df[df['Product'].str.contains(i)==True]\n",
      "/tmp/ipykernel_19919/2714048837.py:7: UserWarning: This pattern is interpreted as a regular expression, and has match groups. To actually get the groups, use str.extract.\n",
      "  t=df[df['Product'].str.contains(i)==True]\n"
     ]
    }
   ],
   "source": [
    "df=pd.read_csv('data.csv')\n",
    "df['Order Date'] = pd.to_datetime(df['Order Date'])\n",
    "\n",
    "a=df[\"Product\"].unique().tolist()\n",
    "\n",
    "for i in a:\n",
    "    t=df[df['Product'].str.contains(i)==True]\n",
    "    temp=df.groupby(t['Order Date'].dt.strftime('%b'))['Quantity Ordered'].sum().sort_values()\n",
    "    directory='/home/tanmay/coding/minor/Minor-Project/Product wise csv/'\n",
    "    temp.to_csv(directory+i+'.csv', index=True)"
   ]
  }
 ],
 "metadata": {
  "kernelspec": {
   "display_name": "Python 3.10.8 64-bit",
   "language": "python",
   "name": "python3"
  },
  "language_info": {
   "codemirror_mode": {
    "name": "ipython",
    "version": 3
   },
   "file_extension": ".py",
   "mimetype": "text/x-python",
   "name": "python",
   "nbconvert_exporter": "python",
   "pygments_lexer": "ipython3",
   "version": "3.11.1 (main, Jan  6 2023, 00:00:00) [GCC 12.2.1 20221121 (Red Hat 12.2.1-4)]"
  },
  "orig_nbformat": 4,
  "vscode": {
   "interpreter": {
    "hash": "e7370f93d1d0cde622a1f8e1c04877d8463912d04d973331ad4851f04de6915a"
   }
  }
 },
 "nbformat": 4,
 "nbformat_minor": 2
}
